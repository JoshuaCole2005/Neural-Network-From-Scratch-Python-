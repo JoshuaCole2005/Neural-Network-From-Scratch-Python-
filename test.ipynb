{
 "cells": [
  {
   "cell_type": "code",
   "execution_count": 1,
   "metadata": {},
   "outputs": [],
   "source": [
    "from Network.models import feed_forward\n",
    "from Network.layers import Fully_Connected_Layer\n",
    "from Network.activation_functions import relu, sigmoid, tanh\n",
    "from Network.loss_functions import mse, mse_deriv"
   ]
  },
  {
   "cell_type": "code",
   "execution_count": 2,
   "metadata": {},
   "outputs": [],
   "source": [
    "import numpy as np\n",
    "from keras.datasets import mnist\n",
    "from keras.utils import np_utils\n",
    "import matplotlib.pyplot as plt\n",
    "import pandas as pd"
   ]
  },
  {
   "cell_type": "code",
   "execution_count": 3,
   "metadata": {},
   "outputs": [],
   "source": [
    "def preprocess_data(x, y, limit):\n",
    "    # reshape and normalize input data\n",
    "    x = x.reshape(x.shape[0], 28 * 28, 1)\n",
    "    x = x.astype(\"float32\") / 255\n",
    "    # encode output which is a number in range [0,9] into a vector of size 10\n",
    "    # e.g. number 3 will become [0, 0, 0, 1, 0, 0, 0, 0, 0, 0]\n",
    "    y = np_utils.to_categorical(y)\n",
    "    y = y.reshape(y.shape[0], 10, 1)\n",
    "    return x[:limit], y[:limit]\n",
    "\n",
    "\n",
    "# load MNIST from server\n",
    "(x_train, y_train), (x_test, y_test) = mnist.load_data()\n",
    "x_train, y_train = preprocess_data(x_train, y_train, 1000)\n",
    "x_test, y_test = preprocess_data(x_test, y_test, 20)"
   ]
  },
  {
   "cell_type": "markdown",
   "metadata": {},
   "source": [
    "Making the Neural Network"
   ]
  },
  {
   "cell_type": "code",
   "execution_count": 4,
   "metadata": {},
   "outputs": [
    {
     "name": "stdout",
     "output_type": "stream",
     "text": [
      "Epoch 1/100 \t Error: 1.0060175497352\n",
      "Epoch 2/100 \t Error: 0.9589028878427699\n",
      "Epoch 3/100 \t Error: 0.93082380367401\n",
      "Epoch 4/100 \t Error: 0.90942380246771\n",
      "Epoch 5/100 \t Error: 0.8941258639777093\n",
      "Epoch 6/100 \t Error: 0.8805007318553273\n",
      "Epoch 7/100 \t Error: 0.8684639353694097\n",
      "Epoch 8/100 \t Error: 0.8568945017996069\n",
      "Epoch 9/100 \t Error: 0.8462700472045858\n",
      "Epoch 10/100 \t Error: 0.8310660882357672\n",
      "Epoch 11/100 \t Error: 0.8237894676715557\n",
      "Epoch 12/100 \t Error: 0.8123022634438143\n",
      "Epoch 13/100 \t Error: 0.8081436944471456\n",
      "Epoch 14/100 \t Error: 0.7966368352561868\n",
      "Epoch 15/100 \t Error: 0.790616684789399\n",
      "Epoch 16/100 \t Error: 0.7810903542720143\n",
      "Epoch 17/100 \t Error: 0.7723665670121266\n",
      "Epoch 18/100 \t Error: 0.7661588002437993\n",
      "Epoch 19/100 \t Error: 0.7615273033774296\n",
      "Epoch 20/100 \t Error: 0.7524433050638399\n",
      "Epoch 21/100 \t Error: 0.7457203827205495\n",
      "Epoch 22/100 \t Error: 0.7419964588309044\n",
      "Epoch 23/100 \t Error: 0.7366398993059677\n",
      "Epoch 24/100 \t Error: 0.7315159314283055\n",
      "Epoch 25/100 \t Error: 0.7265826146553876\n",
      "Epoch 26/100 \t Error: 0.7232016043767556\n",
      "Epoch 27/100 \t Error: 0.7153080896214955\n",
      "Epoch 28/100 \t Error: 0.7128745770841799\n",
      "Epoch 29/100 \t Error: 0.7096089215862825\n",
      "Epoch 30/100 \t Error: 0.7058984600667123\n",
      "Epoch 31/100 \t Error: 0.701642175018035\n",
      "Epoch 32/100 \t Error: 0.6995229617669708\n",
      "Epoch 33/100 \t Error: 0.6964420955303141\n",
      "Epoch 34/100 \t Error: 0.6961673004658772\n",
      "Epoch 35/100 \t Error: 0.690911678632605\n",
      "Epoch 36/100 \t Error: 0.6885455332249393\n",
      "Epoch 37/100 \t Error: 0.6876461595155985\n",
      "Epoch 38/100 \t Error: 0.6842661009499073\n",
      "Epoch 39/100 \t Error: 0.6822036264046077\n",
      "Epoch 40/100 \t Error: 0.6791488677898648\n",
      "Epoch 41/100 \t Error: 0.6758963615070369\n",
      "Epoch 42/100 \t Error: 0.6725233537028775\n",
      "Epoch 43/100 \t Error: 0.6708944543714571\n",
      "Epoch 44/100 \t Error: 0.6702386736289224\n",
      "Epoch 45/100 \t Error: 0.6667442958074974\n",
      "Epoch 46/100 \t Error: 0.6674006264999329\n",
      "Epoch 47/100 \t Error: 0.6635425610697594\n",
      "Epoch 48/100 \t Error: 0.663501653296108\n",
      "Epoch 49/100 \t Error: 0.6594155794772624\n",
      "Epoch 50/100 \t Error: 0.6572323812304174\n",
      "Epoch 51/100 \t Error: 0.6561743191223223\n",
      "Epoch 52/100 \t Error: 0.6541850377544394\n",
      "Epoch 53/100 \t Error: 0.6554057057665362\n",
      "Epoch 54/100 \t Error: 0.6522420718228314\n",
      "Epoch 55/100 \t Error: 0.6518744211168269\n",
      "Epoch 56/100 \t Error: 0.6497686916089219\n",
      "Epoch 57/100 \t Error: 0.6468313293862814\n",
      "Epoch 58/100 \t Error: 0.6443311317267394\n",
      "Epoch 59/100 \t Error: 0.645052057764854\n",
      "Epoch 60/100 \t Error: 0.6424130324958897\n",
      "Epoch 61/100 \t Error: 0.6385826450694093\n",
      "Epoch 62/100 \t Error: 0.6401917773489165\n",
      "Epoch 63/100 \t Error: 0.6374274758492016\n",
      "Epoch 64/100 \t Error: 0.6343046516353147\n",
      "Epoch 65/100 \t Error: 0.6344330278783727\n",
      "Epoch 66/100 \t Error: 0.6317670806572212\n",
      "Epoch 67/100 \t Error: 0.6294612645256429\n",
      "Epoch 68/100 \t Error: 0.6268440625270615\n",
      "Epoch 69/100 \t Error: 0.6278843069057922\n",
      "Epoch 70/100 \t Error: 0.626424728569862\n",
      "Epoch 71/100 \t Error: 0.6238777602818869\n",
      "Epoch 72/100 \t Error: 0.6234514028937203\n",
      "Epoch 73/100 \t Error: 0.6210180093990529\n",
      "Epoch 74/100 \t Error: 0.6186131282664953\n",
      "Epoch 75/100 \t Error: 0.618981056454792\n",
      "Epoch 76/100 \t Error: 0.6179275439637816\n",
      "Epoch 77/100 \t Error: 0.6162647137058535\n",
      "Epoch 78/100 \t Error: 0.6139065623894463\n",
      "Epoch 79/100 \t Error: 0.6103532508020888\n",
      "Epoch 80/100 \t Error: 0.6098996799597897\n",
      "Epoch 81/100 \t Error: 0.6092091765642142\n",
      "Epoch 82/100 \t Error: 0.6078396588889766\n",
      "Epoch 83/100 \t Error: 0.6081678218959443\n",
      "Epoch 84/100 \t Error: 0.6046591413848943\n",
      "Epoch 85/100 \t Error: 0.6048612617645149\n",
      "Epoch 86/100 \t Error: 0.6012517475748226\n",
      "Epoch 87/100 \t Error: 0.6005694572228506\n",
      "Epoch 88/100 \t Error: 0.6002098595515843\n",
      "Epoch 89/100 \t Error: 0.5979073272736786\n",
      "Epoch 90/100 \t Error: 0.5978506531294366\n",
      "Epoch 91/100 \t Error: 0.5965195762408744\n",
      "Epoch 92/100 \t Error: 0.5911692966156212\n",
      "Epoch 93/100 \t Error: 0.5920193200645427\n",
      "Epoch 94/100 \t Error: 0.5918653452462256\n",
      "Epoch 95/100 \t Error: 0.5895890322730508\n",
      "Epoch 96/100 \t Error: 0.5905367759848359\n",
      "Epoch 97/100 \t Error: 0.5882336010664032\n",
      "Epoch 98/100 \t Error: 0.5856821472325195\n",
      "Epoch 99/100 \t Error: 0.5846692623419549\n",
      "Epoch 100/100 \t Error: 0.582189824526386\n"
     ]
    }
   ],
   "source": [
    "relu_activation = relu()\n",
    "tanh_activation = tanh()\n",
    "network = feed_forward()\n",
    "network.add(Fully_Connected_Layer(28*28, 14*14, tanh_activation))\n",
    "network.add(Fully_Connected_Layer(14*14, 7*7, tanh_activation))\n",
    "network.add(Fully_Connected_Layer(7*7, 10, tanh_activation))\n",
    "\n",
    "network.train(x_train, y_train, 100, 0.01, mse, mse_deriv)"
   ]
  },
  {
   "cell_type": "code",
   "execution_count": null,
   "metadata": {},
   "outputs": [],
   "source": []
  }
 ],
 "metadata": {
  "kernelspec": {
   "display_name": "Python 3.9.13 ('NN_from_scratch')",
   "language": "python",
   "name": "python3"
  },
  "language_info": {
   "codemirror_mode": {
    "name": "ipython",
    "version": 3
   },
   "file_extension": ".py",
   "mimetype": "text/x-python",
   "name": "python",
   "nbconvert_exporter": "python",
   "pygments_lexer": "ipython3",
   "version": "3.9.13"
  },
  "orig_nbformat": 4,
  "vscode": {
   "interpreter": {
    "hash": "b810446193bfedd38ab4887c3537e2477ecea568971dcb0d1f7077e0f8e08fe9"
   }
  }
 },
 "nbformat": 4,
 "nbformat_minor": 2
}
